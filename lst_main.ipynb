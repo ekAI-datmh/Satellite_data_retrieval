{
 "cells": [
  {
   "cell_type": "code",
   "execution_count": 2,
   "metadata": {},
   "outputs": [
    {
     "data": {
      "text/html": [
       "<p>To authorize access needed by Earth Engine, open the following\n",
       "        URL in a web browser and follow the instructions:</p>\n",
       "        <p><a href=https://code.earthengine.google.com/client-auth?scopes=https%3A//www.googleapis.com/auth/earthengine%20https%3A//www.googleapis.com/auth/cloud-platform%20https%3A//www.googleapis.com/auth/devstorage.full_control&request_id=SGdxzhQpVu8NuCdWEOpDAJVHL37WRkFOTI61lVRIFY4&tc=gZ6l8dJUYTsNpx0t0_p7vQ9qMvb5N_HQStPXRhJLnZc&cc=UNqnIzFeNxciIgMa9ycijM6tBfHQKjMaTBHcpNEebYQ>https://code.earthengine.google.com/client-auth?scopes=https%3A//www.googleapis.com/auth/earthengine%20https%3A//www.googleapis.com/auth/cloud-platform%20https%3A//www.googleapis.com/auth/devstorage.full_control&request_id=SGdxzhQpVu8NuCdWEOpDAJVHL37WRkFOTI61lVRIFY4&tc=gZ6l8dJUYTsNpx0t0_p7vQ9qMvb5N_HQStPXRhJLnZc&cc=UNqnIzFeNxciIgMa9ycijM6tBfHQKjMaTBHcpNEebYQ</a></p>\n",
       "        <p>The authorization workflow will generate a code, which you should paste in the box below.</p>\n",
       "        "
      ],
      "text/plain": [
       "<IPython.core.display.HTML object>"
      ]
     },
     "metadata": {},
     "output_type": "display_data"
    },
    {
     "name": "stdout",
     "output_type": "stream",
     "text": [
      "\n",
      "Successfully saved authorization token.\n"
     ]
    }
   ],
   "source": [
    "import ee\n",
    "\n",
    "# Initialize the Earth Engine API.\n",
    "ee.Authenticate(force = True)\n",
    "ee.Initialize(project='ee-hadat')"
   ]
  },
  {
   "cell_type": "code",
   "execution_count": 6,
   "metadata": {},
   "outputs": [
    {
     "name": "stdout",
     "output_type": "stream",
     "text": [
      "Landsat Collection: {'type': 'ImageCollection', 'bands': [], 'features': [{'type': 'Image', 'bands': [{'id': 'SR_B1', 'data_type': {'type': 'PixelType', 'precision': 'int', 'min': 0, 'max': 65535}, 'dimensions': [7571, 7731], 'crs': 'EPSG:32648', 'crs_transform': [30, 0, 495885, 0, -30, 1234515]}, {'id': 'SR_B2', 'data_type': {'type': 'PixelType', 'precision': 'int', 'min': 0, 'max': 65535}, 'dimensions': [7571, 7731], 'crs': 'EPSG:32648', 'crs_transform': [30, 0, 495885, 0, -30, 1234515]}, {'id': 'SR_B3', 'data_type': {'type': 'PixelType', 'precision': 'int', 'min': 0, 'max': 65535}, 'dimensions': [7571, 7731], 'crs': 'EPSG:32648', 'crs_transform': [30, 0, 495885, 0, -30, 1234515]}, {'id': 'SR_B4', 'data_type': {'type': 'PixelType', 'precision': 'int', 'min': 0, 'max': 65535}, 'dimensions': [7571, 7731], 'crs': 'EPSG:32648', 'crs_transform': [30, 0, 495885, 0, -30, 1234515]}, {'id': 'SR_B5', 'data_type': {'type': 'PixelType', 'precision': 'int', 'min': 0, 'max': 65535}, 'dimensions': [7571, 7731], 'crs': 'EPSG:32648', 'crs_transform': [30, 0, 495885, 0, -30, 1234515]}, {'id': 'SR_B6', 'data_type': {'type': 'PixelType', 'precision': 'int', 'min': 0, 'max': 65535}, 'dimensions': [7571, 7731], 'crs': 'EPSG:32648', 'crs_transform': [30, 0, 495885, 0, -30, 1234515]}, {'id': 'SR_B7', 'data_type': {'type': 'PixelType', 'precision': 'int', 'min': 0, 'max': 65535}, 'dimensions': [7571, 7731], 'crs': 'EPSG:32648', 'crs_transform': [30, 0, 495885, 0, -30, 1234515]}, {'id': 'QA_PIXEL', 'data_type': {'type': 'PixelType', 'precision': 'int', 'min': 0, 'max': 65535}, 'dimensions': [7571, 7731], 'crs': 'EPSG:32648', 'crs_transform': [30, 0, 495885, 0, -30, 1234515]}, {'id': 'NDVI', 'data_type': {'type': 'PixelType', 'precision': 'double'}, 'dimensions': [7571, 7731], 'crs': 'EPSG:32648', 'crs_transform': [30, 0, 495885, 0, -30, 1234515]}, {'id': 'FVC', 'data_type': {'type': 'PixelType', 'precision': 'double'}, 'dimensions': [7571, 7731], 'crs': 'EPSG:32648', 'crs_transform': [30, 0, 495885, 0, -30, 1234515]}, {'id': 'TPW', 'data_type': {'type': 'PixelType', 'precision': 'double'}, 'dimensions': [3, 2], 'origin': [113, 31], 'crs': 'EPSG:4326', 'crs_transform': [2.5, 0, -180, 0, -2.5, 90]}, {'id': 'TPWpos', 'data_type': {'type': 'PixelType', 'precision': 'int', 'min': 0, 'max': 9}, 'dimensions': [4, 4], 'origin': [104, 8], 'crs': 'EPSG:4326', 'crs_transform': [1, 0, 0, 0, 1, 0]}, {'id': 'EM', 'data_type': {'type': 'PixelType', 'precision': 'double'}, 'dimensions': [7571, 7720], 'crs': 'EPSG:32648', 'crs_transform': [30, 0, 495885, 0, -30, 1234515]}, {'id': 'B10', 'data_type': {'type': 'PixelType', 'precision': 'float'}, 'dimensions': [7571, 7731], 'crs': 'EPSG:32648', 'crs_transform': [30, 0, 495885, 0, -30, 1234515]}, {'id': 'B11', 'data_type': {'type': 'PixelType', 'precision': 'float'}, 'dimensions': [7571, 7731], 'crs': 'EPSG:32648', 'crs_transform': [30, 0, 495885, 0, -30, 1234515]}, {'id': 'LST', 'data_type': {'type': 'PixelType', 'precision': 'double'}, 'dimensions': [7571, 7720], 'crs': 'EPSG:32648', 'crs_transform': [30, 0, 495885, 0, -30, 1234515]}], 'version': 1672905056198433, 'id': 'LANDSAT/LC08/C02/T1_L2/LC08_125053_20221229', 'properties': {'DATA_SOURCE_ELEVATION': 'GLS2000', 'WRS_TYPE': 2, 'REFLECTANCE_ADD_BAND_1': -0.2, 'REFLECTANCE_ADD_BAND_2': -0.2, 'DATUM': 'WGS84', 'REFLECTANCE_ADD_BAND_3': -0.2, 'REFLECTANCE_ADD_BAND_4': -0.2, 'REFLECTANCE_ADD_BAND_5': -0.2, 'REFLECTANCE_ADD_BAND_6': -0.2, 'REFLECTANCE_ADD_BAND_7': -0.2, 'system:footprint': {'type': 'LinearRing', 'coordinates': [[106.97956500853869, 10.644728283306796], [106.99636479985719, 10.721095105223009], [107.01290955819711, 10.796285943321], [107.0162213704955, 10.811555336146517], [107.01227527550405, 10.81244935248103], [106.90035415710751, 10.836455176180248], [105.86737854984484, 11.055957371720515], [105.3549343234152, 11.163449463685803], [105.35437010064747, 11.16289365299486], [104.98260726020555, 9.427837174328452], [105.01293982831272, 9.421383246904357], [106.00021514651515, 9.2104790821168], [106.4383380168239, 9.115951069458355], [106.63369762473785, 9.073619549861787], [106.63516707621208, 9.073612975112061], [106.67059414227462, 9.235733378200921], [106.74359571667529, 9.569673384471493], [106.76878822824051, 9.684814594256114], [106.94224373457597, 10.474991564597337], [106.97956500853869, 10.644728283306796]]}, 'REFLECTIVE_SAMPLES': 7571, 'GROUND_CONTROL_POINTS_VERSION': 5, 'SUN_AZIMUTH': 143.16748682, 'DATA_SOURCE_TIRS_STRAY_LIGHT_CORRECTION': 'TIRS', 'UTM_ZONE': 48, 'DATE_ACQUIRED': '2022-12-29', 'ELLIPSOID': 'WGS84', 'system:time_end': 1672283679334, 'DATA_SOURCE_PRESSURE': 'Calculated', 'LANDSAT_PRODUCT_ID': 'LC08_L2SP_125053_20221229_20230104_02_T1', 'STATION_ID': 'LGN', 'TEMPERATURE_ADD_BAND_ST_B10': 149, 'DATA_SOURCE_REANALYSIS': 'GEOS-5 FP-IT', 'REFLECTANCE_MULT_BAND_7': 2.75e-05, 'system:time_start': 1672283679334, 'REFLECTANCE_MULT_BAND_6': 2.75e-05, 'L1_PROCESSING_LEVEL': 'L1TP', 'PROCESSING_SOFTWARE_VERSION': 'LPGS_16.1.0', 'L1_DATE_PRODUCT_GENERATED': '2023-01-04T03:15:06Z', 'ORIENTATION': 'NORTH_UP', 'REFLECTANCE_MULT_BAND_1': 2.75e-05, 'WRS_ROW': 53, 'REFLECTANCE_MULT_BAND_3': 2.75e-05, 'REFLECTANCE_MULT_BAND_2': 2.75e-05, 'TARGET_WRS_ROW': 53, 'REFLECTANCE_MULT_BAND_5': 2.75e-05, 'REFLECTANCE_MULT_BAND_4': 2.75e-05, 'THERMAL_LINES': 7731, 'TIRS_SSM_POSITION_STATUS': 'ESTIMATED', 'GRID_CELL_SIZE_THERMAL': 30, 'IMAGE_QUALITY_TIRS': 9, 'TRUNCATION_OLI': 'UPPER', 'NADIR_OFFNADIR': 'NADIR', 'CLOUD_COVER': 47.62, 'REQUEST_ID': '1622458_00029', 'EARTH_SUN_DISTANCE': 0.9834219, 'GEOMETRIC_RMSE_VERIFY': 7.549, 'TIRS_SSM_MODEL': 'FINAL', 'COLLECTION_CATEGORY': 'T1', 'SCENE_CENTER_TIME': '03:14:39.3349050Z', 'GRID_CELL_SIZE_REFLECTIVE': 30, 'SUN_ELEVATION': 48.17289169, 'ALGORITHM_SOURCE_SURFACE_TEMPERATURE': 'st_1.3.0', 'TEMPERATURE_MAXIMUM_BAND_ST_B10': 372.999941, 'CLOUD_COVER_LAND': 48.56, 'GEOMETRIC_RMSE_MODEL': 8.18, 'ROLL_ANGLE': -0.001, 'COLLECTION_NUMBER': 2, 'DATE_PRODUCT_GENERATED': 1672802840000, 'L1_REQUEST_ID': '1622458_00029', 'DATA_SOURCE_OZONE': 'MODIS', 'SATURATION_BAND_1': 'N', 'DATA_SOURCE_WATER_VAPOR': 'MODIS', 'SATURATION_BAND_2': 'N', 'SATURATION_BAND_3': 'N', 'IMAGE_QUALITY_OLI': 9, 'SATURATION_BAND_4': 'N', 'LANDSAT_SCENE_ID': 'LC81250532022363LGN00', 'SATURATION_BAND_5': 'N', 'MAP_PROJECTION': 'UTM', 'SATURATION_BAND_6': 'N', 'SENSOR_ID': 'OLI_TIRS', 'SATURATION_BAND_7': 'Y', 'SATURATION_BAND_8': 'N', 'WRS_PATH': 125, 'SATURATION_BAND_9': 'N', 'TARGET_WRS_PATH': 125, 'L1_PROCESSING_SOFTWARE_VERSION': 'LPGS_16.1.0', 'TEMPERATURE_MULT_BAND_ST_B10': 0.00341802, 'L1_LANDSAT_PRODUCT_ID': 'LC08_L1TP_125053_20221229_20230104_02_T1', 'PROCESSING_LEVEL': 'L2SP', 'ALGORITHM_SOURCE_SURFACE_REFLECTANCE': 'LaSRC_1.5.0', 'GROUND_CONTROL_POINTS_MODEL': 167, 'SPACECRAFT_ID': 'LANDSAT_8', 'TEMPERATURE_MINIMUM_BAND_ST_B10': 149.003418, 'GEOMETRIC_RMSE_MODEL_Y': 5.58, 'REFLECTIVE_LINES': 7731, 'GEOMETRIC_RMSE_MODEL_X': 5.982, 'THERMAL_SAMPLES': 7571, 'system:asset_size': 916344503, 'DATA_SOURCE_AIR_TEMPERATURE': 'MODIS', 'GROUND_CONTROL_POINTS_VERIFY': 28, 'system:index': 'LC08_125053_20221229'}}]}\n",
      "Number of images to process: 1\n",
      "\n",
      "Downloading image for date: 2022-12-29\n",
      "Download URL: https://earthengine.googleapis.com/v1/projects/172099900522/thumbnails/e534a4979f271b6608c152981081bf0d-e8e28137f0b0e89f52088a68e2a55ffe:getPixels\n",
      "Downloaded ZIP file to /tmp/tmpzwdb_y5e/lst16days_2022-12-29.zip\n",
      "Extracted ZIP file in /tmp/tmpzwdb_y5e\n",
      "Moved extracted TIFF to /mnt/data1tb/LSTRetrieval/Code/download_data/AnNinh-QuynhPhu-ThaiBinh/lst/lst16days_2022-12-29.tif\n",
      "Removed temporary folder: /tmp/tmpzwdb_y5e\n",
      "\n",
      "\n",
      "Landsat Collection: {'type': 'ImageCollection', 'bands': [], 'features': [{'type': 'Image', 'bands': [{'id': 'SR_B1', 'data_type': {'type': 'PixelType', 'precision': 'int', 'min': 0, 'max': 65535}, 'dimensions': [7571, 7721], 'crs': 'EPSG:32648', 'crs_transform': [30, 0, 495585, 0, -30, 1234515]}, {'id': 'SR_B2', 'data_type': {'type': 'PixelType', 'precision': 'int', 'min': 0, 'max': 65535}, 'dimensions': [7571, 7721], 'crs': 'EPSG:32648', 'crs_transform': [30, 0, 495585, 0, -30, 1234515]}, {'id': 'SR_B3', 'data_type': {'type': 'PixelType', 'precision': 'int', 'min': 0, 'max': 65535}, 'dimensions': [7571, 7721], 'crs': 'EPSG:32648', 'crs_transform': [30, 0, 495585, 0, -30, 1234515]}, {'id': 'SR_B4', 'data_type': {'type': 'PixelType', 'precision': 'int', 'min': 0, 'max': 65535}, 'dimensions': [7571, 7721], 'crs': 'EPSG:32648', 'crs_transform': [30, 0, 495585, 0, -30, 1234515]}, {'id': 'SR_B5', 'data_type': {'type': 'PixelType', 'precision': 'int', 'min': 0, 'max': 65535}, 'dimensions': [7571, 7721], 'crs': 'EPSG:32648', 'crs_transform': [30, 0, 495585, 0, -30, 1234515]}, {'id': 'SR_B6', 'data_type': {'type': 'PixelType', 'precision': 'int', 'min': 0, 'max': 65535}, 'dimensions': [7571, 7721], 'crs': 'EPSG:32648', 'crs_transform': [30, 0, 495585, 0, -30, 1234515]}, {'id': 'SR_B7', 'data_type': {'type': 'PixelType', 'precision': 'int', 'min': 0, 'max': 65535}, 'dimensions': [7571, 7721], 'crs': 'EPSG:32648', 'crs_transform': [30, 0, 495585, 0, -30, 1234515]}, {'id': 'QA_PIXEL', 'data_type': {'type': 'PixelType', 'precision': 'int', 'min': 0, 'max': 65535}, 'dimensions': [7571, 7721], 'crs': 'EPSG:32648', 'crs_transform': [30, 0, 495585, 0, -30, 1234515]}, {'id': 'NDVI', 'data_type': {'type': 'PixelType', 'precision': 'double'}, 'dimensions': [7571, 7721], 'crs': 'EPSG:32648', 'crs_transform': [30, 0, 495585, 0, -30, 1234515]}, {'id': 'FVC', 'data_type': {'type': 'PixelType', 'precision': 'double'}, 'dimensions': [7571, 7721], 'crs': 'EPSG:32648', 'crs_transform': [30, 0, 495585, 0, -30, 1234515]}, {'id': 'TPW', 'data_type': {'type': 'PixelType', 'precision': 'double'}, 'dimensions': [3, 2], 'origin': [113, 31], 'crs': 'EPSG:4326', 'crs_transform': [2.5, 0, -180, 0, -2.5, 90]}, {'id': 'TPWpos', 'data_type': {'type': 'PixelType', 'precision': 'int', 'min': 0, 'max': 9}, 'dimensions': [4, 4], 'origin': [104, 8], 'crs': 'EPSG:4326', 'crs_transform': [1, 0, 0, 0, 1, 0]}, {'id': 'EM', 'data_type': {'type': 'PixelType', 'precision': 'double'}, 'dimensions': [7571, 7720], 'crs': 'EPSG:32648', 'crs_transform': [30, 0, 495585, 0, -30, 1234515]}, {'id': 'B10', 'data_type': {'type': 'PixelType', 'precision': 'float'}, 'dimensions': [7571, 7721], 'crs': 'EPSG:32648', 'crs_transform': [30, 0, 495585, 0, -30, 1234515]}, {'id': 'B11', 'data_type': {'type': 'PixelType', 'precision': 'float'}, 'dimensions': [7571, 7721], 'crs': 'EPSG:32648', 'crs_transform': [30, 0, 495585, 0, -30, 1234515]}, {'id': 'LST', 'data_type': {'type': 'PixelType', 'precision': 'double'}, 'dimensions': [7571, 7720], 'crs': 'EPSG:32648', 'crs_transform': [30, 0, 495585, 0, -30, 1234515]}], 'version': 1679312643211392, 'id': 'LANDSAT/LC09/C02/T1_L2/LC09_125053_20221221', 'properties': {'DATA_SOURCE_ELEVATION': 'GLS2000', 'WRS_TYPE': 2, 'REFLECTANCE_ADD_BAND_1': -0.2, 'REFLECTANCE_ADD_BAND_2': -0.2, 'DATUM': 'WGS84', 'REFLECTANCE_ADD_BAND_3': -0.2, 'REFLECTANCE_ADD_BAND_4': -0.2, 'REFLECTANCE_ADD_BAND_5': -0.2, 'REFLECTANCE_ADD_BAND_6': -0.2, 'REFLECTANCE_ADD_BAND_7': -0.2, 'system:footprint': {'type': 'LinearRing', 'coordinates': [[104.98246480489539, 9.427413665397566], [104.98246489404134, 9.426524933136662], [105.03651958435097, 9.415126589487695], [106.50787823963766, 9.101563807261961], [106.63893083141954, 9.073324828921185], [106.64036029115255, 9.073318464984512], [106.64768844377957, 9.106862738724153], [106.6593990325025, 9.160515549441964], [106.80340103318267, 9.818342672538874], [106.8339793372075, 9.95757912259007], [106.83706747380398, 9.971664933851493], [107.00780408150328, 10.747888219441442], [107.01909606635775, 10.799316415298504], [107.02136676389823, 10.809904326362819], [107.02137532342957, 10.811182582557802], [107.02052450753388, 10.811610064154456], [106.8384406826979, 10.850390454187153], [105.6444671393781, 11.101822171342944], [105.43273977503661, 11.145881698109635], [105.35438323455296, 11.162144309833621], [104.98246480489539, 9.427413665397566]]}, 'REFLECTIVE_SAMPLES': 7571, 'GROUND_CONTROL_POINTS_VERSION': 5, 'SUN_AZIMUTH': 144.41922506, 'UTM_ZONE': 48, 'DATE_ACQUIRED': '2022-12-21', 'ELLIPSOID': 'WGS84', 'system:time_end': 1671592479382, 'DATA_SOURCE_PRESSURE': 'Calculated', 'LANDSAT_PRODUCT_ID': 'LC09_L2SP_125053_20221221_20230317_02_T1', 'STATION_ID': 'LGN', 'TEMPERATURE_ADD_BAND_ST_B10': 149, 'DATA_SOURCE_REANALYSIS': 'GEOS-5 FP-IT', 'REFLECTANCE_MULT_BAND_7': 2.75e-05, 'system:time_start': 1671592479382, 'REFLECTANCE_MULT_BAND_6': 2.75e-05, 'L1_PROCESSING_LEVEL': 'L1TP', 'PROCESSING_SOFTWARE_VERSION': 'LPGS_16.2.0', 'L1_DATE_PRODUCT_GENERATED': '2023-03-17T09:20:34Z', 'ORIENTATION': 'NORTH_UP', 'REFLECTANCE_MULT_BAND_1': 2.75e-05, 'WRS_ROW': 53, 'REFLECTANCE_MULT_BAND_3': 2.75e-05, 'REFLECTANCE_MULT_BAND_2': 2.75e-05, 'TARGET_WRS_ROW': 53, 'REFLECTANCE_MULT_BAND_5': 2.75e-05, 'REFLECTANCE_MULT_BAND_4': 2.75e-05, 'THERMAL_LINES': 7721, 'GRID_CELL_SIZE_THERMAL': 30, 'IMAGE_QUALITY_TIRS': 9, 'NADIR_OFFNADIR': 'NADIR', 'CLOUD_COVER': 42.49, 'REQUEST_ID': '1655087_00029', 'EARTH_SUN_DISTANCE': 0.9838462, 'GEOMETRIC_RMSE_VERIFY': 7.568, 'COLLECTION_CATEGORY': 'T1', 'SCENE_CENTER_TIME': '03:14:39.3820239Z', 'GRID_CELL_SIZE_REFLECTIVE': 30, 'SUN_ELEVATION': 48.59170689, 'ALGORITHM_SOURCE_SURFACE_TEMPERATURE': 'st_1.3.0', 'TEMPERATURE_MAXIMUM_BAND_ST_B10': 372.999941, 'CLOUD_COVER_LAND': 43.84, 'GEOMETRIC_RMSE_MODEL': 7.444, 'ROLL_ANGLE': -0.001, 'COLLECTION_NUMBER': 2, 'DATE_PRODUCT_GENERATED': 1679045810000, 'L1_REQUEST_ID': '1655087_00029', 'DATA_SOURCE_OZONE': 'MODIS', 'SATURATION_BAND_1': 'N', 'DATA_SOURCE_WATER_VAPOR': 'MODIS', 'SATURATION_BAND_2': 'N', 'SATURATION_BAND_3': 'N', 'IMAGE_QUALITY_OLI': 9, 'SATURATION_BAND_4': 'N', 'LANDSAT_SCENE_ID': 'LC91250532022355LGN01', 'SATURATION_BAND_5': 'N', 'MAP_PROJECTION': 'UTM', 'SATURATION_BAND_6': 'Y', 'SENSOR_ID': 'OLI_TIRS', 'SATURATION_BAND_7': 'Y', 'SATURATION_BAND_8': 'N', 'WRS_PATH': 125, 'L1_PROCESSING_SOFTWARE_VERSION': 'LPGS_16.2.0', 'SATURATION_BAND_9': 'N', 'TARGET_WRS_PATH': 125, 'L1_LANDSAT_PRODUCT_ID': 'LC09_L1TP_125053_20221221_20230317_02_T1', 'TEMPERATURE_MULT_BAND_ST_B10': 0.00341802, 'PROCESSING_LEVEL': 'L2SP', 'ALGORITHM_SOURCE_SURFACE_REFLECTANCE': 'LaSRC_1.5.0', 'GROUND_CONTROL_POINTS_MODEL': 284, 'SPACECRAFT_ID': 'LANDSAT_9', 'TEMPERATURE_MINIMUM_BAND_ST_B10': 149.003418, 'GEOMETRIC_RMSE_MODEL_Y': 5.186, 'REFLECTIVE_LINES': 7721, 'GEOMETRIC_RMSE_MODEL_X': 5.341, 'THERMAL_SAMPLES': 7571, 'system:asset_size': 900367479, 'DATA_SOURCE_AIR_TEMPERATURE': 'MODIS', 'GROUND_CONTROL_POINTS_VERIFY': 47, 'system:index': 'LC09_125053_20221221'}}]}\n",
      "Number of images to process: 1\n",
      "\n",
      "Downloading image for date: 2022-12-21\n",
      "Download URL: https://earthengine.googleapis.com/v1/projects/172099900522/thumbnails/65cb415014ae095b09f36b7dab3b79d6-311edcdcd14e8221212428edb4f1ddaa:getPixels\n",
      "Downloaded ZIP file to /tmp/tmpmcocc5uq/lst16days_2022-12-21.zip\n",
      "Extracted ZIP file in /tmp/tmpmcocc5uq\n",
      "Moved extracted TIFF to /mnt/data1tb/LSTRetrieval/Code/download_data/AnNinh-QuynhPhu-ThaiBinh/lst/lst16days_2022-12-21.tif\n",
      "Removed temporary folder: /tmp/tmpmcocc5uq\n",
      "\n",
      "\n"
     ]
    }
   ],
   "source": [
    "import ee\n",
    "import requests  # used to download files\n",
    "import os\n",
    "import tempfile\n",
    "import zipfile\n",
    "import shutil\n",
    "import time\n",
    "\n",
    "ee.Initialize()\n",
    "\n",
    "# Import the Landsat LST computation module.\n",
    "from lst_module import Landsat_LST as LandsatLST\n",
    "\n",
    "\n",
    "date_start = '2022-12-15'\n",
    "date_end = '2023-01-01'\n",
    "# Define the region of interest.\n",
    "geometry = ee.Geometry.Polygon(\n",
    "    [[[11812369.999999998, 1090778.5002765884],\n",
    "      [11812369.999999998, 1099089.479389606],\n",
    "      [11805550.0,         1099089.479389606],\n",
    "      [11805550.0,         1090778.5002765884],\n",
    "      [11812369.999999998, 1090778.5002765884]]],\n",
    "    proj='EPSG:3857'\n",
    ")\n",
    "\n",
    "def lst_retrive(date_start, date_end, geometry, ROI, main_folder):\n",
    "    satellites = [\"L8\", \"L9\"]\n",
    "\n",
    "    for satellite in satellites:\n",
    "        # Define parameters.\n",
    "        # date_start = '2022-12-15'\n",
    "        # date_end = '2023-01-01'\n",
    "        use_ndvi = True\n",
    "\n",
    "        # Get Landsat collection with added variables.\n",
    "        LandsatColl = LandsatLST.collection(satellite, date_start, date_end, geometry, use_ndvi)\n",
    "        print('Landsat Collection:', LandsatColl.getInfo())\n",
    "\n",
    "        # Convert the collection to a list.\n",
    "        imageList = LandsatColl.toList(LandsatColl.size())\n",
    "        imageCount = LandsatColl.size().getInfo()\n",
    "        print('Number of images to process:', imageCount)\n",
    "        print()\n",
    "\n",
    "        for i in range(imageCount):\n",
    "            image = ee.Image(imageList.get(i))\n",
    "            # Get the image date formatted as YYYY-MM-dd.\n",
    "            imageDate = ee.Date(image.get('system:time_start')).format('YYYY-MM-dd').getInfo()\n",
    "\n",
    "            # Get a download URL for the LST band as a ZIP.\n",
    "            download_params = {\n",
    "                'scale': 30,\n",
    "                'region': geometry,  # geometry can be passed directly if it is an ee.Geometry\n",
    "                'fileFormat': 'ZIP'\n",
    "            }\n",
    "            download_url = image.select('LST').getDownloadURL(download_params)\n",
    "            print('Downloading image for date:', imageDate)\n",
    "            print('Download URL:', download_url)\n",
    "\n",
    "            # Create a temporary folder.\n",
    "            temp_dir = tempfile.mkdtemp()\n",
    "            zip_filename = os.path.join(temp_dir, f\"lst16days_{imageDate}.zip\")\n",
    "            \n",
    "            try:\n",
    "                response = requests.get(download_url, timeout=120)\n",
    "                if response.status_code == 200:\n",
    "                    # Save the ZIP file.\n",
    "                    with open(zip_filename, 'wb') as f:\n",
    "                        f.write(response.content)\n",
    "                    print(f\"Downloaded ZIP file to {zip_filename}\")\n",
    "                    \n",
    "                    # Extract the ZIP file.\n",
    "                    with zipfile.ZipFile(zip_filename, 'r') as zip_ref:\n",
    "                        zip_ref.extractall(temp_dir)\n",
    "                    print(f\"Extracted ZIP file in {temp_dir}\")\n",
    "                    \n",
    "                    # Look for the first .tif file in the temporary folder.\n",
    "                    tif_files = [f for f in os.listdir(temp_dir) if f.lower().endswith('.tif')]\n",
    "                    if tif_files:\n",
    "                        tif_file = tif_files[0]\n",
    "                        source_tif = os.path.join(temp_dir, tif_file)\n",
    "                        # Ensure the destination folder exists.\n",
    "                        dest_folder = os.path.join(main_folder, ROI)\n",
    "                        dest_folder = os.path.join(dest_folder, \"lst\")\n",
    "                        os.makedirs(dest_folder, exist_ok=True)\n",
    "                        dest_tif = os.path.join(dest_folder, f\"lst16days_{imageDate}.tif\")\n",
    "                        shutil.move(source_tif, dest_tif)\n",
    "                        print(f\"Moved extracted TIFF to {dest_tif}\")\n",
    "                    else:\n",
    "                        print(f\"No TIFF file found in ZIP for date: {imageDate}\")\n",
    "                else:\n",
    "                    print(f\"Failed to download image for date: {imageDate}. Status code: {response.status_code}\")\n",
    "            except Exception as e:\n",
    "                print(f\"Exception occurred for {imageDate}: {e}\")\n",
    "            finally:\n",
    "                # Remove the temporary folder regardless of outcome.\n",
    "                try:\n",
    "                    shutil.rmtree(temp_dir)\n",
    "                    print(f\"Removed temporary folder: {temp_dir}\")\n",
    "                except Exception as e:\n",
    "                    print(f\"Error removing temporary folder {temp_dir}: {e}\")\n",
    "            print(\"\\n\")\n",
    "            time.sleep(2)  # Pause briefly between downloads if necessary\n",
    "\n",
    "# Run the function\n",
    "lst_retrive(date_start, date_end, geometry, \"AnNinh-QuynhPhu-ThaiBinh\", \"/mnt/data1tb/LSTRetrieval/Code/download_data\")\n"
   ]
  },
  {
   "cell_type": "code",
   "execution_count": null,
   "metadata": {},
   "outputs": [],
   "source": []
  }
 ],
 "metadata": {
  "kernelspec": {
   "display_name": "ss_ndvi",
   "language": "python",
   "name": "python3"
  },
  "language_info": {
   "codemirror_mode": {
    "name": "ipython",
    "version": 3
   },
   "file_extension": ".py",
   "mimetype": "text/x-python",
   "name": "python",
   "nbconvert_exporter": "python",
   "pygments_lexer": "ipython3",
   "version": "3.9.0"
  }
 },
 "nbformat": 4,
 "nbformat_minor": 2
}
